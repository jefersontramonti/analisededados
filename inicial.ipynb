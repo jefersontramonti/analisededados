{
 "cells": [
  {
   "cell_type": "markdown",
   "metadata": {},
   "source": [
    "# Python Insights - Analisando Dados com Python\n",
    "\n",
    "### Case - Cancelamento de Clientes\n",
    "\n",
    "Você foi contratado por uma empresa com mais de 800 mil clientes para um projeto de Dados. Recentemente a empresa percebeu que da sua base total de clientes, a maioria são clientes inativos, ou seja, que já cancelaram o serviço.\n",
    "\n",
    "Precisando melhorar seus resultados ela quer conseguir entender os principais motivos desses cancelamentos e quais as ações mais eficientes para reduzir esse número.\n",
    "\n"
    
   ]
  },
  {
   "cell_type": "code",
   "execution_count": 2,
   "metadata": {
    "ExecuteTime": {
     "end_time": "2023-09-26T23:47:45.533022Z",
     "start_time": "2023-09-26T23:47:43.440396500Z"
    }
   },
   "outputs": [
    {
     "data": {
      "text/plain": "        idade    sexo  tempo_como_cliente  frequencia_uso  \\\n0        30.0  Female                39.0            14.0   \n1        65.0  Female                49.0             1.0   \n2        55.0  Female                14.0             4.0   \n3        58.0    Male                38.0            21.0   \n4        23.0    Male                32.0            20.0   \n...       ...     ...                 ...             ...   \n881661   42.0    Male                54.0            15.0   \n881662   25.0  Female                 8.0            13.0   \n881663   26.0    Male                35.0            27.0   \n881664   28.0    Male                55.0            14.0   \n881665   31.0    Male                48.0            20.0   \n\n        ligacoes_callcenter  dias_atraso assinatura duracao_contrato  \\\n0                       5.0         18.0   Standard           Annual   \n1                      10.0          8.0      Basic          Monthly   \n2                       6.0         18.0      Basic        Quarterly   \n3                       7.0          7.0   Standard          Monthly   \n4                       5.0          8.0      Basic          Monthly   \n...                     ...          ...        ...              ...   \n881661                  1.0          3.0    Premium           Annual   \n881662                  1.0         20.0    Premium           Annual   \n881663                  1.0          5.0   Standard        Quarterly   \n881664                  2.0          0.0   Standard        Quarterly   \n881665                  1.0         14.0    Premium        Quarterly   \n\n        total_gasto  meses_ultima_interacao  cancelou  \n0            932.00                    17.0       1.0  \n1            557.00                     6.0       1.0  \n2            185.00                     3.0       1.0  \n3            396.00                    29.0       1.0  \n4            617.00                    20.0       1.0  \n...             ...                     ...       ...  \n881661       716.38                     8.0       0.0  \n881662       745.38                     2.0       0.0  \n881663       977.31                     9.0       0.0  \n881664       602.55                     2.0       0.0  \n881665       567.77                    21.0       0.0  \n\n[881666 rows x 11 columns]",
      "text/html": "<div>\n<style scoped>\n    .dataframe tbody tr th:only-of-type {\n        vertical-align: middle;\n    }\n\n    .dataframe tbody tr th {\n        vertical-align: top;\n    }\n\n    .dataframe thead th {\n        text-align: right;\n    }\n</style>\n<table border=\"1\" class=\"dataframe\">\n  <thead>\n    <tr style=\"text-align: right;\">\n      <th></th>\n      <th>idade</th>\n      <th>sexo</th>\n      <th>tempo_como_cliente</th>\n      <th>frequencia_uso</th>\n      <th>ligacoes_callcenter</th>\n      <th>dias_atraso</th>\n      <th>assinatura</th>\n      <th>duracao_contrato</th>\n      <th>total_gasto</th>\n      <th>meses_ultima_interacao</th>\n      <th>cancelou</th>\n    </tr>\n  </thead>\n  <tbody>\n    <tr>\n      <th>0</th>\n      <td>30.0</td>\n      <td>Female</td>\n      <td>39.0</td>\n      <td>14.0</td>\n      <td>5.0</td>\n      <td>18.0</td>\n      <td>Standard</td>\n      <td>Annual</td>\n      <td>932.00</td>\n      <td>17.0</td>\n      <td>1.0</td>\n    </tr>\n    <tr>\n      <th>1</th>\n      <td>65.0</td>\n      <td>Female</td>\n      <td>49.0</td>\n      <td>1.0</td>\n      <td>10.0</td>\n      <td>8.0</td>\n      <td>Basic</td>\n      <td>Monthly</td>\n      <td>557.00</td>\n      <td>6.0</td>\n      <td>1.0</td>\n    </tr>\n    <tr>\n      <th>2</th>\n      <td>55.0</td>\n      <td>Female</td>\n      <td>14.0</td>\n      <td>4.0</td>\n      <td>6.0</td>\n      <td>18.0</td>\n      <td>Basic</td>\n      <td>Quarterly</td>\n      <td>185.00</td>\n      <td>3.0</td>\n      <td>1.0</td>\n    </tr>\n    <tr>\n      <th>3</th>\n      <td>58.0</td>\n      <td>Male</td>\n      <td>38.0</td>\n      <td>21.0</td>\n      <td>7.0</td>\n      <td>7.0</td>\n      <td>Standard</td>\n      <td>Monthly</td>\n      <td>396.00</td>\n      <td>29.0</td>\n      <td>1.0</td>\n    </tr>\n    <tr>\n      <th>4</th>\n      <td>23.0</td>\n      <td>Male</td>\n      <td>32.0</td>\n      <td>20.0</td>\n      <td>5.0</td>\n      <td>8.0</td>\n      <td>Basic</td>\n      <td>Monthly</td>\n      <td>617.00</td>\n      <td>20.0</td>\n      <td>1.0</td>\n    </tr>\n    <tr>\n      <th>...</th>\n      <td>...</td>\n      <td>...</td>\n      <td>...</td>\n      <td>...</td>\n      <td>...</td>\n      <td>...</td>\n      <td>...</td>\n      <td>...</td>\n      <td>...</td>\n      <td>...</td>\n      <td>...</td>\n    </tr>\n    <tr>\n      <th>881661</th>\n      <td>42.0</td>\n      <td>Male</td>\n      <td>54.0</td>\n      <td>15.0</td>\n      <td>1.0</td>\n      <td>3.0</td>\n      <td>Premium</td>\n      <td>Annual</td>\n      <td>716.38</td>\n      <td>8.0</td>\n      <td>0.0</td>\n    </tr>\n    <tr>\n      <th>881662</th>\n      <td>25.0</td>\n      <td>Female</td>\n      <td>8.0</td>\n      <td>13.0</td>\n      <td>1.0</td>\n      <td>20.0</td>\n      <td>Premium</td>\n      <td>Annual</td>\n      <td>745.38</td>\n      <td>2.0</td>\n      <td>0.0</td>\n    </tr>\n    <tr>\n      <th>881663</th>\n      <td>26.0</td>\n      <td>Male</td>\n      <td>35.0</td>\n      <td>27.0</td>\n      <td>1.0</td>\n      <td>5.0</td>\n      <td>Standard</td>\n      <td>Quarterly</td>\n      <td>977.31</td>\n      <td>9.0</td>\n      <td>0.0</td>\n    </tr>\n    <tr>\n      <th>881664</th>\n      <td>28.0</td>\n      <td>Male</td>\n      <td>55.0</td>\n      <td>14.0</td>\n      <td>2.0</td>\n      <td>0.0</td>\n      <td>Standard</td>\n      <td>Quarterly</td>\n      <td>602.55</td>\n      <td>2.0</td>\n      <td>0.0</td>\n    </tr>\n    <tr>\n      <th>881665</th>\n      <td>31.0</td>\n      <td>Male</td>\n      <td>48.0</td>\n      <td>20.0</td>\n      <td>1.0</td>\n      <td>14.0</td>\n      <td>Premium</td>\n      <td>Quarterly</td>\n      <td>567.77</td>\n      <td>21.0</td>\n      <td>0.0</td>\n    </tr>\n  </tbody>\n</table>\n<p>881666 rows × 11 columns</p>\n</div>"
     },
     "metadata": {},
     "output_type": "display_data"
    }
   ],
   "source": [
    "import pandas as pd\n",
    "\n",
    "# passo a passo\n",
    "# paso 1: importar base de dados\n",
    "\n",
    "\n",
    "tabela = pd.read_csv('data/cancelamentos.csv')\n",
    "tabela = tabela.drop(columns='CustomerID')\n",
    "# paso 2: visualizar a base de dados\n",
    "\n",
    "display(tabela)\n",
    "\n"
   ]
  },
  {
   "cell_type": "code",
   "execution_count": 5,
   "outputs": [
    {
     "name": "stdout",
     "output_type": "stream",
     "text": [
      "<class 'pandas.core.frame.DataFrame'>\n",
      "Index: 881659 entries, 0 to 881665\n",
      "Data columns (total 11 columns):\n",
      " #   Column                  Non-Null Count   Dtype  \n",
      "---  ------                  --------------   -----  \n",
      " 0   idade                   881659 non-null  float64\n",
      " 1   sexo                    881659 non-null  object \n",
      " 2   tempo_como_cliente      881659 non-null  float64\n",
      " 3   frequencia_uso          881659 non-null  float64\n",
      " 4   ligacoes_callcenter     881659 non-null  float64\n",
      " 5   dias_atraso             881659 non-null  float64\n",
      " 6   assinatura              881659 non-null  object \n",
      " 7   duracao_contrato        881659 non-null  object \n",
      " 8   total_gasto             881659 non-null  float64\n",
      " 9   meses_ultima_interacao  881659 non-null  float64\n",
      " 10  cancelou                881659 non-null  float64\n",
      "dtypes: float64(8), object(3)\n",
      "memory usage: 80.7+ MB\n"
     ]
    },
    {
     "data": {
      "text/plain": "None"
     },
     "metadata": {},
     "output_type": "display_data"
    }
   ],
   "source": [
    "# paso 3: corrigir a base de dados\n",
    "tabela = tabela.dropna()\n",
    "display(tabela.info())\n"
   ],
   "metadata": {
    "collapsed": false,
    "ExecuteTime": {
     "end_time": "2023-09-26T23:52:37.289859200Z",
     "start_time": "2023-09-26T23:52:36.441444300Z"
    }
   }
  },
  {
   "cell_type": "code",
   "execution_count": 9,
   "outputs": [
    {
     "data": {
      "text/plain": "cancelou\n1.0    499993\n0.0    381666\nName: count, dtype: int64"
     },
     "metadata": {},
     "output_type": "display_data"
    },
    {
     "data": {
      "text/plain": "cancelou\n1.0    56.7%\n0.0    43.3%\nName: proportion, dtype: object"
     },
     "metadata": {},
     "output_type": "display_data"
    }
   ],
   "source": [
    "# paso 4: qual % de clientes cancelou\n",
    "display(tabela['cancelou'].value_counts())\n",
    "display(tabela['cancelou'].value_counts(normalize=True).map(\"{:.1%}\".format))\n"
   ],
   "metadata": {
    "collapsed": false,
    "ExecuteTime": {
     "end_time": "2023-09-26T23:57:53.280102500Z",
     "start_time": "2023-09-26T23:57:53.208118300Z"
    }
   }
  },
  {
   "cell_type": "code",
   "execution_count": 10,
   "outputs": [
    {
     "data": {
      "text/plain": "duracao_contrato\nAnnual       354395\nQuarterly    353059\nMonthly      174205\nName: count, dtype: int64"
     },
     "metadata": {},
     "output_type": "display_data"
    },
    {
     "data": {
      "text/plain": "duracao_contrato\nAnnual       40.2%\nQuarterly    40.0%\nMonthly      19.8%\nName: proportion, dtype: object"
     },
     "metadata": {},
     "output_type": "display_data"
    }
   ],
   "source": [
    "display(tabela['duracao_contrato'].value_counts())\n",
    "display(tabela['duracao_contrato'].value_counts(normalize=True).map(\"{:.1%}\".format))"
   ],
   "metadata": {
    "collapsed": false,
    "ExecuteTime": {
     "end_time": "2023-09-26T23:58:37.102796200Z",
     "start_time": "2023-09-26T23:58:36.907011800Z"
    }
   }
  },
  {
   "cell_type": "code",
   "execution_count": 12,
   "outputs": [
    {
     "data": {
      "text/plain": "                      idade  tempo_como_cliente  frequencia_uso  \\\nduracao_contrato                                                  \nAnnual            38.842165           31.446186       15.880213   \nMonthly           41.552407           30.538555       15.499274   \nQuarterly         38.830938           31.419916       15.886662   \n\n                  ligacoes_callcenter  dias_atraso  total_gasto  \\\nduracao_contrato                                                  \nAnnual                       3.263401    12.465156   651.697738   \nMonthly                      4.985649    15.007267   550.616435   \nQuarterly                    3.265245    12.460863   651.427783   \n\n                  meses_ultima_interacao  cancelou  \nduracao_contrato                                    \nAnnual                         14.236107  0.460760  \nMonthly                        15.478012  1.000000  \nQuarterly                      14.234544  0.460255  ",
      "text/html": "<div>\n<style scoped>\n    .dataframe tbody tr th:only-of-type {\n        vertical-align: middle;\n    }\n\n    .dataframe tbody tr th {\n        vertical-align: top;\n    }\n\n    .dataframe thead th {\n        text-align: right;\n    }\n</style>\n<table border=\"1\" class=\"dataframe\">\n  <thead>\n    <tr style=\"text-align: right;\">\n      <th></th>\n      <th>idade</th>\n      <th>tempo_como_cliente</th>\n      <th>frequencia_uso</th>\n      <th>ligacoes_callcenter</th>\n      <th>dias_atraso</th>\n      <th>total_gasto</th>\n      <th>meses_ultima_interacao</th>\n      <th>cancelou</th>\n    </tr>\n    <tr>\n      <th>duracao_contrato</th>\n      <th></th>\n      <th></th>\n      <th></th>\n      <th></th>\n      <th></th>\n      <th></th>\n      <th></th>\n      <th></th>\n    </tr>\n  </thead>\n  <tbody>\n    <tr>\n      <th>Annual</th>\n      <td>38.842165</td>\n      <td>31.446186</td>\n      <td>15.880213</td>\n      <td>3.263401</td>\n      <td>12.465156</td>\n      <td>651.697738</td>\n      <td>14.236107</td>\n      <td>0.460760</td>\n    </tr>\n    <tr>\n      <th>Monthly</th>\n      <td>41.552407</td>\n      <td>30.538555</td>\n      <td>15.499274</td>\n      <td>4.985649</td>\n      <td>15.007267</td>\n      <td>550.616435</td>\n      <td>15.478012</td>\n      <td>1.000000</td>\n    </tr>\n    <tr>\n      <th>Quarterly</th>\n      <td>38.830938</td>\n      <td>31.419916</td>\n      <td>15.886662</td>\n      <td>3.265245</td>\n      <td>12.460863</td>\n      <td>651.427783</td>\n      <td>14.234544</td>\n      <td>0.460255</td>\n    </tr>\n  </tbody>\n</table>\n</div>"
     },
     "metadata": {},
     "output_type": "display_data"
    }
   ],
   "source": [
    "#agrupar tabela\n",
    "\n",
    "agrupamento = tabela.groupby('duracao_contrato').mean(numeric_only=True)\n",
    "display(agrupamento)"
   ],
   "metadata": {
    "collapsed": false,
    "ExecuteTime": {
     "end_time": "2023-09-27T00:01:47.770964800Z",
     "start_time": "2023-09-27T00:01:47.642139Z"
    }
   }
  },
  {
   "cell_type": "code",
   "execution_count": 13,
   "outputs": [
    {
     "data": {
      "text/plain": "cancelou\n0.0    381666\n1.0    325788\nName: count, dtype: int64"
     },
     "metadata": {},
     "output_type": "display_data"
    },
    {
     "data": {
      "text/plain": "cancelou\n0.0    53.9%\n1.0    46.1%\nName: proportion, dtype: object"
     },
     "metadata": {},
     "output_type": "display_data"
    }
   ],
   "source": [
    "\n",
    "tabela = tabela[tabela['duracao_contrato'] != 'Monthly']\n",
    "display(tabela['cancelou'].value_counts())\n",
    "display(tabela['cancelou'].value_counts(normalize=True).map(\"{:.1%}\".format))\n"
   ],
   "metadata": {
    "collapsed": false,
    "ExecuteTime": {
     "end_time": "2023-09-27T00:07:56.052195900Z",
     "start_time": "2023-09-27T00:07:55.784918Z"
    }
   }
  },
  {
   "cell_type": "code",
   "execution_count": null,
   "outputs": [],
   "source": [
    "#criar graficos\n",
    "import plotly.express as px\n",
    "\n",
    "# Cria o gráfico para cada coluna em tabela\n",
    "for coluna in tabela.columns:\n",
    "    if coluna != 'cancelou':  # Para evitar criar um histograma da coluna 'cancelou'\n",
    "        grafico = px.histogram(tabela, x=coluna, color='cancelou',\n",
    "                               title=f'Distribuição de {coluna} dos Usuários',\n",
    "                               labels={coluna: coluna.capitalize(), 'count': 'Quantidade de Usuários'},\n",
    "                               color_discrete_map={'Não': 'green', 'Sim': 'red'},\n",
    "                               marginal='box')  # Adiciona um box plot à margem do histograma\n",
    "\n",
    "        # Melhora o layout\n",
    "        grafico.update_layout(\n",
    "            font=dict(\n",
    "                family=\"Arial, sans-serif\",\n",
    "                size=12,\n",
    "                color=\"RebeccaPurple\"\n",
    "            ),\n",
    "            xaxis_title_text=coluna.capitalize(),  # xaxis label with respect to subplot\n",
    "            yaxis_title_text='Frequência',  # yaxis label with respect to subplot\n",
    "            bargap=0.05,  # gap between bars of adjacent location coordinates\n",
    "            bargroupgap=0.1  # gap between bars of the same location coordinate\n",
    "        )\n",
    "\n",
    "        # Exibe o gráfico\n",
    "        grafico.show()\n",
    "\n"
   ],
   "metadata": {
    "collapsed": false
   }
  },
  {
   "cell_type": "code",
   "execution_count": 23,
   "outputs": [
    {
     "data": {
      "text/plain": "cancelou\n0.0    379032\n1.0     85447\nName: count, dtype: int64"
     },
     "metadata": {},
     "output_type": "display_data"
    },
    {
     "data": {
      "text/plain": "cancelou\n0.0    81.6%\n1.0    18.4%\nName: proportion, dtype: object"
     },
     "metadata": {},
     "output_type": "display_data"
    }
   ],
   "source": [
    "#principais causas encontradas que afetam diretamente nos cancelamentos\n",
    "#pagamentos mensais\n",
    "#ligações para call center acima de 4.\n",
    "#dias de atrazo maior que 20, todos os clientes cancelam\n",
    "\n",
    "tabela = tabela[tabela['ligacoes_callcenter'] < 5]\n",
    "tabela = tabela[tabela['dias_atraso'] <= 20]\n",
    "\n",
    "display(tabela['cancelou'].value_counts())\n",
    "display(tabela['cancelou'].value_counts(normalize=True).map(\"{:.1%}\".format))\n"
   ],
   "metadata": {
    "collapsed": false,
    "ExecuteTime": {
     "end_time": "2023-09-27T01:16:54.558329400Z",
     "start_time": "2023-09-27T01:16:54.430259800Z"
    }
   }
  }
 ],
 "metadata": {
  "kernelspec": {
   "display_name": "base",
   "language": "python",
   "name": "python3"
  },
  "language_info": {
   "codemirror_mode": {
    "name": "ipython",
    "version": 3
   },
   "file_extension": ".py",
   "mimetype": "text/x-python",
   "name": "python",
   "nbconvert_exporter": "python",
   "pygments_lexer": "ipython3",
   "version": "3.10.9"
  },
  "orig_nbformat": 4
 },
 "nbformat": 4,
 "nbformat_minor": 2
}
